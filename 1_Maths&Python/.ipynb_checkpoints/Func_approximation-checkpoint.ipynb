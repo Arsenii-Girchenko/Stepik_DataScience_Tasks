{
 "cells": [
  {
   "cell_type": "markdown",
   "id": "19780aab",
   "metadata": {},
   "source": [
    "# Аппроксимация функции\n",
    "## Функция\n",
    "f(x) = sin(x / 5) * exp(x / 10) + 5 * exp(-x / 2)\n",
    "## Задача\n",
    "1. Сформируйте систему линейных уравнений (то есть задайте матрицу коэффициентов A и свободный вектор b) для многочлена первой степени, который должен совпадать с функцией f в точках 1 и 15. Решите данную систему с помощью функции scipy.linalg.solve. Нарисуйте функцию f и полученный многочлен. Хорошо ли он приближает исходную функцию?\n",
    "2. Повторите те же шаги для многочлена второй степени, который совпадает с функцией f в точках 1, 8 и 15. Улучшилось ли качество аппроксимации?\n",
    "3. Повторите те же шаги для многочлена третьей степени, который совпадает с функцией f в точках 1, 4, 10 и 15. Хорошо ли он аппроксимирует функцию? Коэффициенты данного многочлена (четыре числа в следующем порядке: w_0, w_1, w_2, w_3) являются ответом на задачу. Округлять коэффициенты не обязательно, но при желании можете произвести округление до второго знака (т.е. до числа вида 0.42).\n",
    "4. Отправьте ответ, разделив числа (w_0, w_1, w_2, w_3) пробелами."
   ]
  },
  {
   "cell_type": "code",
   "execution_count": 146,
   "id": "bc180787",
   "metadata": {},
   "outputs": [],
   "source": [
    "import numpy as np\n",
    "import pandas as pd\n",
    "import scipy as sc\n",
    "import math\n",
    "import matplotlib.pyplot as plt\n",
    "\n",
    "from scipy import linalg"
   ]
  },
  {
   "cell_type": "code",
   "execution_count": 147,
   "id": "e34e2e01",
   "metadata": {},
   "outputs": [],
   "source": [
    "def func_to_appr(x: float):\n",
    "    return math.sin(x / 5.0) * math.exp(x / 10.0) + 5.0 * math.exp(- x / 2.0)"
   ]
  },
  {
   "cell_type": "code",
   "execution_count": 148,
   "id": "a1c9468a",
   "metadata": {},
   "outputs": [],
   "source": [
    "x_min = 1.0\n",
    "x_max = 15.0"
   ]
  },
  {
   "cell_type": "code",
   "execution_count": 149,
   "id": "4a7ecf49",
   "metadata": {},
   "outputs": [],
   "source": [
    "x_list = [x_min, 4.0, 10, x_max]"
   ]
  },
  {
   "cell_type": "code",
   "execution_count": 150,
   "id": "b014b9a3",
   "metadata": {},
   "outputs": [
    {
     "data": {
      "text/plain": [
       "(array([[ 1.,  1.],\n",
       "        [ 1., 15.]]),\n",
       " array([3.25221687, 0.63522142]))"
      ]
     },
     "execution_count": 150,
     "metadata": {},
     "output_type": "execute_result"
    }
   ],
   "source": [
    "A = np.array(\n",
    "            [\n",
    "                [1, x_min],\n",
    "                [1, x_max],\n",
    "            ]\n",
    "        )\n",
    "b = np.array([func_to_appr(x_min), func_to_appr(x_max)])\n",
    "A, b"
   ]
  },
  {
   "cell_type": "code",
   "execution_count": 151,
   "id": "0bc1affe",
   "metadata": {},
   "outputs": [],
   "source": [
    "def create_coeff_matrix(x_list):\n",
    "    n_columns_rows = len(x_list)\n",
    "    matrix_list = []\n",
    "    for x in x_list:\n",
    "        row = [x**i for i in range(n_columns_rows)]\n",
    "        matrix_list.append(row)\n",
    "    return matrix_list"
   ]
  },
  {
   "cell_type": "code",
   "execution_count": 152,
   "id": "32437d94",
   "metadata": {},
   "outputs": [],
   "source": [
    "def create_func_val_vector(x_list):\n",
    "    func_cal_vector = np.array([func_to_appr(x) for x in x_list])\n",
    "    return func_cal_vector"
   ]
  },
  {
   "cell_type": "code",
   "execution_count": 153,
   "id": "54e35462",
   "metadata": {},
   "outputs": [
    {
     "data": {
      "text/plain": [
       "(array([[1.000e+00, 1.000e+00, 1.000e+00, 1.000e+00],\n",
       "        [1.000e+00, 4.000e+00, 1.600e+01, 6.400e+01],\n",
       "        [1.000e+00, 1.000e+01, 1.000e+02, 1.000e+03],\n",
       "        [1.000e+00, 1.500e+01, 2.250e+02, 3.375e+03]]),\n",
       " array([3.25221687, 1.74684595, 2.50541641, 0.63522142]))"
      ]
     },
     "execution_count": 153,
     "metadata": {},
     "output_type": "execute_result"
    }
   ],
   "source": [
    "A = np.array(create_matrix(x_list))\n",
    "b = np.array(create_func_val_vector(x_list))\n",
    "A, b"
   ]
  },
  {
   "cell_type": "code",
   "execution_count": 154,
   "id": "6d79584a",
   "metadata": {},
   "outputs": [],
   "source": [
    "polynomial_coeffs = linalg.solve(A, b)"
   ]
  },
  {
   "cell_type": "code",
   "execution_count": 155,
   "id": "3d1f32cf",
   "metadata": {},
   "outputs": [],
   "source": [
    "def PolyCoefficients(x, coeffs):\n",
    "    \"\"\" Returns a polynomial for ``x`` values for the ``coeffs`` provided.\n",
    "\n",
    "    The coefficients must be in ascending order (``x**0`` to ``x**o``).\n",
    "    \"\"\"\n",
    "    terms_amount = len(coeffs)\n",
    "    y = 0\n",
    "    for i in range(terms_amount):\n",
    "        y += coeffs[i]*x**i\n",
    "    return y"
   ]
  },
  {
   "cell_type": "code",
   "execution_count": 156,
   "id": "b7bf440b",
   "metadata": {},
   "outputs": [
    {
     "data": {
      "text/plain": [
       "array([ 3.43914511, -0.18692825])"
      ]
     },
     "execution_count": 156,
     "metadata": {},
     "output_type": "execute_result"
    }
   ],
   "source": [
    "polinome_coeffs"
   ]
  },
  {
   "cell_type": "code",
   "execution_count": 157,
   "id": "09db50e4",
   "metadata": {},
   "outputs": [
    {
     "data": {
      "image/png": "[encoded data removed]",
      "text/plain": [
       "<Figure size 640x480 with 1 Axes>"
      ]
     },
     "metadata": {},
     "output_type": "display_data"
    }
   ],
   "source": [
    "fig, ax = plt.subplots()\n",
    "ax.set_title(f'Polinomial of order {len(polynomial_coeffs) - 1}')\n",
    "ax.set_xlabel('x')\n",
    "ax.set_ylabel('f(x)')\n",
    "x = np.linspace(1, 15, 15)\n",
    "plt.plot(x, PolyCoefficients(x, polynomial_coeffs))\n",
    "plt.show()"
   ]
  },
  {
   "cell_type": "code",
   "execution_count": 158,
   "id": "f44da48f",
   "metadata": {},
   "outputs": [
    {
     "data": {
      "text/plain": [
       "array([ 4.36264154, -1.29552587,  0.19333685, -0.00823565])"
      ]
     },
     "execution_count": 158,
     "metadata": {},
     "output_type": "execute_result"
    }
   ],
   "source": [
    "polynomial_coeffs"
   ]
  }
 ],
 "metadata": {
  "kernelspec": {
   "display_name": "Python 3 (ipykernel)",
   "language": "python",
   "name": "python3"
  },
  "language_info": {
   "codemirror_mode": {
    "name": "ipython",
    "version": 3
   },
   "file_extension": ".py",
   "mimetype": "text/x-python",
   "name": "python",
   "nbconvert_exporter": "python",
   "pygments_lexer": "ipython3",
   "version": "3.11.3"
  }
 },
 "nbformat": 4,
 "nbformat_minor": 5
}
