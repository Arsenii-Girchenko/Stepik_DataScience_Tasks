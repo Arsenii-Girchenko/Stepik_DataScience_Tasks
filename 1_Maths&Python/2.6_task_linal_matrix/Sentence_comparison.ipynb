{
 "cells": [
  {
   "cell_type": "code",
   "execution_count": 303,
   "id": "b547852b",
   "metadata": {
    "scrolled": true
   },
   "outputs": [],
   "source": [
    "import pandas as pd\n",
    "import numpy as np\n",
    "import scipy as scp\n",
    "import operator as op # Использую для подсчёта числа вхождений элемента в список\n",
    "import re\n",
    "\n",
    "from scipy.spatial import distance"
   ]
  },
  {
   "cell_type": "code",
   "execution_count": 304,
   "id": "6c8f01a1",
   "metadata": {},
   "outputs": [],
   "source": [
    "# Считаю количество строк в файле - добавляю 1 при прочтении каждой новой строки\n",
    "lines_amount = sum(1 for l in open('sentences.txt', 'r'))"
   ]
  },
  {
   "cell_type": "code",
   "execution_count": 305,
   "id": "33490c1e",
   "metadata": {},
   "outputs": [],
   "source": [
    "with open('sentences.txt', 'r') as f:\n",
    "    lines_list = [] # список строк. В каждом элементе списка будет лежать список слов соответствующей строки\n",
    "    for line in range(lines_amount):\n",
    "        sentence = f.readline().lower() # Читаю строку и записываю её в переменную sentence\n",
    "        lines_list.append(list(set(re.split('[^a-z]', sentence)) ^ {''})) # Добавляю в список строк список симметричных разностей двух множеств: переменной sentence, разделённой по всем небуквенным символам, и множества пустых строк. Таким образом получаю список, состоящий только из слов для каждой строки \n",
    "        lines_arr = np.append(lines_arr, list(set(re.split('[^a-z]', sentence)) ^ {''})) # Создаю numpy-массив всех слов, которые есть в файле"
   ]
  },
  {
   "cell_type": "code",
   "execution_count": 306,
   "id": "02115a3a",
   "metadata": {},
   "outputs": [],
   "source": [
    "sentence_words_list = [] # список списков слов в предложении. Длина этого списка равна чилу предложений\n",
    "for line in lines_list:\n",
    "    count_list = []\n",
    "    for unique_word in np.unique(lines_arr): # метод np.unique для поиска только уникальных элементов массива\n",
    "        count_list.append(op.countOf(line, unique_word)) # Считаю количество вхождений уникального слова из lines_arr в список слов каждого предложения\n",
    "    sentence_words_list.append(count_list)"
   ]
  },
  {
   "cell_type": "code",
   "execution_count": 307,
   "id": "b0020f84",
   "metadata": {},
   "outputs": [],
   "source": [
    "res_array = np.array(sentence_words_list) #Делаю матрицу 22*254"
   ]
  },
  {
   "cell_type": "code",
   "execution_count": 308,
   "id": "55452d38",
   "metadata": {},
   "outputs": [],
   "source": [
    "test_sentence_vector = res_array[0]\n",
    "cos_distances = []\n",
    "for i in range(len(res_array)):\n",
    "    cos_dist = distance.cosine(test_sentence_vector, res_array[i])\n",
    "    cos_distances.append(cos_dist)"
   ]
  },
  {
   "cell_type": "code",
   "execution_count": 309,
   "id": "73bb188a",
   "metadata": {},
   "outputs": [],
   "source": [
    "compare_list = cos_distances.copy() # Копирую список косинусных расстояний, чтобы менять его"
   ]
  },
  {
   "cell_type": "code",
   "execution_count": 310,
   "id": "0e53645c",
   "metadata": {},
   "outputs": [],
   "source": [
    "closest_sent_list = []\n",
    "i = 0\n",
    "while i <= 2: # Нужно всего два ближайшийх предложения плюс один дополнительный элемент для сравнения предложения с самим собой\n",
    "    closest_sent_list.append(cos_distances.index(min(compare_list))) #нашёл минимум в копии списка расстояний и занёс в результирующий список предложений индекс этого расстояния в исходном списке косинусных расстояний\n",
    "    compare_list.remove(min(compare_list)) # Удалил из копии списка найденный минимум\n",
    "    i += 1\n",
    "closest_sent_list.remove(0)"
   ]
  },
  {
   "cell_type": "code",
   "execution_count": 311,
   "id": "1ad412aa",
   "metadata": {},
   "outputs": [
    {
     "name": "stdout",
     "output_type": "stream",
     "text": [
      "[6, 4]\n"
     ]
    }
   ],
   "source": [
    "print(closest_sent_list)"
   ]
  }
 ],
 "metadata": {
  "kernelspec": {
   "display_name": "Python 3 (ipykernel)",
   "language": "python",
   "name": "python3"
  },
  "language_info": {
   "codemirror_mode": {
    "name": "ipython",
    "version": 3
   },
   "file_extension": ".py",
   "mimetype": "text/x-python",
   "name": "python",
   "nbconvert_exporter": "python",
   "pygments_lexer": "ipython3",
   "version": "3.11.3"
  }
 },
 "nbformat": 4,
 "nbformat_minor": 5
}
